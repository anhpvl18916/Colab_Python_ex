{
  "nbformat": 4,
  "nbformat_minor": 0,
  "metadata": {
    "colab": {
      "name": "Cloud-Python-CB-01.ipynb",
      "provenance": [],
      "collapsed_sections": [],
      "authorship_tag": "ABX9TyOM6s9oBZ9+D1+NLVK47stX",
      "include_colab_link": true
    },
    "kernelspec": {
      "name": "python3",
      "display_name": "Python 3"
    }
  },
  "cells": [
    {
      "cell_type": "markdown",
      "metadata": {
        "id": "view-in-github",
        "colab_type": "text"
      },
      "source": [
        "<a href=\"https://colab.research.google.com/github/anhpvl18916/Colab_Python_ex/blob/master/Cloud_Python_CB_01.ipynb\" target=\"_parent\"><img src=\"https://colab.research.google.com/assets/colab-badge.svg\" alt=\"Open In Colab\"/></a>"
      ]
    },
    {
      "cell_type": "code",
      "metadata": {
        "id": "kOaLM_eVdrZ4",
        "colab_type": "code",
        "colab": {
          "base_uri": "https://localhost:8080/",
          "height": 68
        },
        "outputId": "90b7ed6a-fdb7-43bd-da34-b8e3fcfee9d8"
      },
      "source": [
        "for i in range(5,0,-2):\n",
        "  print(i)"
      ],
      "execution_count": 1,
      "outputs": [
        {
          "output_type": "stream",
          "text": [
            "5\n",
            "3\n",
            "1\n"
          ],
          "name": "stdout"
        }
      ]
    },
    {
      "cell_type": "code",
      "metadata": {
        "id": "jpa_YyUBhyiQ",
        "colab_type": "code",
        "colab": {}
      },
      "source": [
        "for i in range(-5):\n",
        "    print('Hello, world!')"
      ],
      "execution_count": 0,
      "outputs": []
    },
    {
      "cell_type": "markdown",
      "metadata": {
        "id": "YL-QWeV4eTo6",
        "colab_type": "text"
      },
      "source": [
        "# New Section"
      ]
    },
    {
      "cell_type": "code",
      "metadata": {
        "id": "CuKpQFB3foLq",
        "colab_type": "code",
        "colab": {
          "base_uri": "https://localhost:8080/",
          "height": 85
        },
        "outputId": "6ed457be-4746-4fce-bb20-a7e22d15671b"
      },
      "source": [
        "n = int(input(\"Cho độ cao của Tam Giác: h = \"))\n",
        "\n",
        "for i in range(0,n):\n",
        "  str = \"\"\n",
        "  for j in range(0, i+1):\n",
        "    str +=\"*\"\n",
        "  print(str)"
      ],
      "execution_count": 2,
      "outputs": [
        {
          "output_type": "stream",
          "text": [
            "Cho độ cao của Tam Giác3\n",
            "*\n",
            "**\n",
            "***\n"
          ],
          "name": "stdout"
        }
      ]
    },
    {
      "cell_type": "code",
      "metadata": {
        "id": "rQpLKs2zgshq",
        "colab_type": "code",
        "colab": {
          "base_uri": "https://localhost:8080/",
          "height": 85
        },
        "outputId": "7cb1714c-333c-4abe-f72a-e434d451b998"
      },
      "source": [
        "n = int(input(\"Cho độ cao của Tam Giác: h = \"))\n",
        "for i in range(n,0,-1):\n",
        "  str = \"\"\n",
        "  for j in range(i, 0,-1):\n",
        "    str +=\"*\"\n",
        "  print(str)"
      ],
      "execution_count": 60,
      "outputs": [
        {
          "output_type": "stream",
          "text": [
            "Cho độ cao của Tam Giác: h = 3\n",
            "***\n",
            "**\n",
            "*\n"
          ],
          "name": "stdout"
        }
      ]
    },
    {
      "cell_type": "code",
      "metadata": {
        "id": "-p6wp_Vvh-i0",
        "colab_type": "code",
        "colab": {
          "base_uri": "https://localhost:8080/",
          "height": 102
        },
        "outputId": "8d53abfb-16fd-49b5-b2f3-b3d8966fd355"
      },
      "source": [
        "n = int(input(\"Cho độ cao của Tam Giác: h = \"))\n",
        "\n",
        "for i in range(0,n+1):\n",
        "    s = n - i\n",
        "    k = s * \" \"\n",
        "    print(k, end='')\n",
        "    print(((2 * i) - 1) * '*')"
      ],
      "execution_count": 15,
      "outputs": [
        {
          "output_type": "stream",
          "text": [
            "Cho độ cao của Tam Giác: h = 3\n",
            "   \n",
            "  *\n",
            " ***\n",
            "*****\n"
          ],
          "name": "stdout"
        }
      ]
    },
    {
      "cell_type": "code",
      "metadata": {
        "id": "t1wcbmUilK7f",
        "colab_type": "code",
        "colab": {
          "base_uri": "https://localhost:8080/",
          "height": 85
        },
        "outputId": "a2d6c70b-71bf-493f-e8bc-b8d33b888db6"
      },
      "source": [
        "n = int(input(\"Cho độ cao của Tam Giác: h = \"))\n",
        "\n",
        "for i in range(n,0,-1):\n",
        "    s = n - i\n",
        "    k = s* \" \" \n",
        "    print(k, end='')\n",
        "    print(((2 * i) - 1) * '*')\n"
      ],
      "execution_count": 42,
      "outputs": [
        {
          "output_type": "stream",
          "text": [
            "Cho độ cao của Tam Giác: h = 3\n",
            "*****\n",
            " ***\n",
            "  *\n"
          ],
          "name": "stdout"
        }
      ]
    },
    {
      "cell_type": "code",
      "metadata": {
        "id": "poExNfITlKpA",
        "colab_type": "code",
        "colab": {
          "base_uri": "https://localhost:8080/",
          "height": 85
        },
        "outputId": "2b463e23-1f44-457b-c21e-ff808e16441b"
      },
      "source": [
        "n = int(input(\"Cho độ cao của Tam Giác: h = \"))\n",
        "for i in range(n,0,-1):\n",
        "  str = \"\"\n",
        "  for k in range(i,n):\n",
        "    str += \" \"\n",
        "  for j in range(i, 0,-1):\n",
        "    str +=\"*\"\n",
        "  print(str)"
      ],
      "execution_count": 61,
      "outputs": [
        {
          "output_type": "stream",
          "text": [
            "Cho độ cao của Tam Giác: h = 3\n",
            "***\n",
            " **\n",
            "  *\n"
          ],
          "name": "stdout"
        }
      ]
    },
    {
      "cell_type": "code",
      "metadata": {
        "id": "-3_UgX82wsdE",
        "colab_type": "code",
        "colab": {
          "base_uri": "https://localhost:8080/",
          "height": 68
        },
        "outputId": "beef963b-d607-401a-c260-8635b4101402"
      },
      "source": [
        "for i in range(0,n):\n",
        "  str = \"\"\n",
        "  for k in range(i,n):\n",
        "    str += \" \"\n",
        "  for j in range(0, i+1):\n",
        "    str +=\"*\"\n",
        "  print(str)"
      ],
      "execution_count": 63,
      "outputs": [
        {
          "output_type": "stream",
          "text": [
            "   *\n",
            "  **\n",
            " ***\n"
          ],
          "name": "stdout"
        }
      ]
    },
    {
      "cell_type": "code",
      "metadata": {
        "id": "KGMbgwXiyarf",
        "colab_type": "code",
        "colab": {
          "base_uri": "https://localhost:8080/",
          "height": 68
        },
        "outputId": "8dcd8c70-66c5-45d8-cbe4-baf4211ff41b"
      },
      "source": [
        "for i in range(0,n):\n",
        "  str = \"\"\n",
        "  for k in range(i,n):\n",
        "    str += \" \" \n",
        "  for j in range(0, (2*i +1)):\n",
        "    if(i>=2)\n",
        "      str +=\" \"\n",
        "      print((j+1),str)"
      ],
      "execution_count": 65,
      "outputs": [
        {
          "output_type": "stream",
          "text": [
            "   *\n",
            "  ***\n",
            " *****\n"
          ],
          "name": "stdout"
        }
      ]
    },
    {
      "cell_type": "code",
      "metadata": {
        "id": "CTlO58Bhz8Rg",
        "colab_type": "code",
        "colab": {
          "base_uri": "https://localhost:8080/",
          "height": 85
        },
        "outputId": "7575ae71-9316-49a8-c19d-da888dcc33c1"
      },
      "source": [
        "list= [1,3,5,7,2,4,6,9]\n",
        "#list, array, tuple,set,dictionary\n",
        "#print(list[3])\n",
        "\n",
        "tuple =(\"001\", \"Nguyen A\", \"20\",\"X's comp\")#\n",
        "\n",
        "dsTaphop = {1,2,3,5,6,8,2} # các phần tử là duy nhất, các pt trùng sẽ bị loại bỏ\n",
        "\n",
        "dict  = {\"one\": \"một\",\n",
        "         \"two\": \"hai\",\n",
        "         1: \"một\"\n",
        "         }\n",
        "dict[\"four\"] = \"bốn\"\n",
        "for i in dict:\n",
        "  print(i,dict[i])"
      ],
      "execution_count": 73,
      "outputs": [
        {
          "output_type": "stream",
          "text": [
            "one một\n",
            "two hai\n",
            "1 một\n",
            "four bốn\n"
          ],
          "name": "stdout"
        }
      ]
    },
    {
      "cell_type": "code",
      "metadata": {
        "id": "qLZ6FG3_3-Td",
        "colab_type": "code",
        "colab": {
          "base_uri": "https://localhost:8080/",
          "height": 187
        },
        "outputId": "4ebe653f-75e1-43f1-bc77-b675b43c66f6"
      },
      "source": [
        "i =0;\n",
        "while i<10:\n",
        "  print(i)\n",
        "  i+=1"
      ],
      "execution_count": 74,
      "outputs": [
        {
          "output_type": "stream",
          "text": [
            "0\n",
            "1\n",
            "2\n",
            "3\n",
            "4\n",
            "5\n",
            "6\n",
            "7\n",
            "8\n",
            "9\n"
          ],
          "name": "stdout"
        }
      ]
    },
    {
      "cell_type": "code",
      "metadata": {
        "id": "Pqg2wd9Y4W25",
        "colab_type": "code",
        "colab": {
          "base_uri": "https://localhost:8080/",
          "height": 51
        },
        "outputId": "a970881c-6cd6-4b58-abd9-6144410a19dd"
      },
      "source": [
        "#USCLN\n",
        "def inputN():\n",
        "  a = int(input(\"Nhập 1 số : a = \"))\n",
        "  b = int(input(\"Nhập 1 số : b = \"))\n",
        "def USCLN(a,b):\n",
        "  while (a!=b):\n",
        "    if b>a:\n",
        "      b=b-a\n",
        "    else:\n",
        "      a= a-b\n",
        "  return a\n",
        "def BSCNN(a,b):\n",
        "  return a*b/USCLN(a,b)\n",
        "\n",
        "print(\"UCLN = \", USCLN(a,b))\n",
        "print(\"BCNN = \", BSCNN(a,b))"
      ],
      "execution_count": 82,
      "outputs": [
        {
          "output_type": "stream",
          "text": [
            "Nhập 1 số : a = 12\n",
            "Nhập 1 số : b = 18\n"
          ],
          "name": "stdout"
        }
      ]
    },
    {
      "cell_type": "code",
      "metadata": {
        "id": "5J4n6tqJ7CTG",
        "colab_type": "code",
        "colab": {
          "base_uri": "https://localhost:8080/",
          "height": 68
        },
        "outputId": "502df7a8-df31-4070-bdc2-ad703a1d4c97"
      },
      "source": [
        "import math\n",
        "def prime(x):\n",
        "    \n",
        "    for i in range(2,):\n",
        "      if(x%i == 0 ):\n",
        "        return False\n",
        "      return True\n",
        "\n",
        "def prime2(x):\n",
        "  m=round(x/2)\n",
        "  i = 2\n",
        "  while x % i != 0 and i<m :\n",
        "    i += 1\n",
        "  if i>m:\n",
        "    return True\n",
        "  else:\n",
        "    return False\n",
        "\n",
        "n = int(input(\"Nhập n = \"))\n",
        "print (n, \"Số nguyên tố đầu tiên là:\")\n",
        "count = 0 \n",
        "i = 2  \n",
        "list = []\n",
        "while (count < n):\n",
        "    if (prime(k)):\n",
        "        list.append(k)\n",
        "        count = count + 1\n",
        "    k = k+1\n",
        "print(list)"
      ],
      "execution_count": 42,
      "outputs": [
        {
          "output_type": "stream",
          "text": [
            "Nhập n = 10\n",
            "10 Số nguyên tố đầu tiên là:\n",
            "[96733, 96735, 96737, 96739, 96741, 96743, 96745, 96747, 96749, 96751]\n"
          ],
          "name": "stdout"
        }
      ]
    },
    {
      "cell_type": "code",
      "metadata": {
        "id": "N5BZelBUF6kl",
        "colab_type": "code",
        "colab": {
          "base_uri": "https://localhost:8080/",
          "height": 265
        },
        "outputId": "7234f0da-37ae-46d1-eacb-83601920bde2"
      },
      "source": [
        "import math\n",
        "def isPrimeNumber(n):\n",
        "    # so nguyen n < 2 khong phai la so nguyen to\n",
        "    if (n < 2):\n",
        "        return False;\n",
        " \n",
        "    # check so nguyen to khi n >= 2\n",
        "    squareRoot = int(math.sqrt(n));\n",
        "    for i in range(2, squareRoot + 1):\n",
        "        if (n % i == 0):\n",
        "            return False;\n",
        "    return True;\n",
        " \n",
        "n = int(input(\"Nhập số nguyên dương n = \"));\n",
        "print (n, \"Số nguyên tố đầu tiên là:\");\n",
        "dem = 0; # đếm số số nguyên tố\n",
        "i = 2;   # tìm số nguyên tố bắt dầu từ số 2\n",
        "sb = \"\";\n",
        "while (dem < n):\n",
        "    if (isPrimeNumber(i)):\n",
        "        sb = sb + str(i) + \" \";\n",
        "        dem = dem + 1;\n",
        "    i = i + 1;\n",
        "print(sb);"
      ],
      "execution_count": 17,
      "outputs": [
        {
          "output_type": "stream",
          "text": [
            "Nhập số nguyên dương n = 10\n",
            "10 Số nguyên tố đầu tiên là:\n"
          ],
          "name": "stdout"
        },
        {
          "output_type": "error",
          "ename": "TypeError",
          "evalue": "ignored",
          "traceback": [
            "\u001b[0;31m---------------------------------------------------------------------------\u001b[0m",
            "\u001b[0;31mTypeError\u001b[0m                                 Traceback (most recent call last)",
            "\u001b[0;32m<ipython-input-17-9b23ff59bfd3>\u001b[0m in \u001b[0;36m<module>\u001b[0;34m()\u001b[0m\n\u001b[1;32m     19\u001b[0m \u001b[0;32mwhile\u001b[0m \u001b[0;34m(\u001b[0m\u001b[0mdem\u001b[0m \u001b[0;34m<\u001b[0m \u001b[0mn\u001b[0m\u001b[0;34m)\u001b[0m\u001b[0;34m:\u001b[0m\u001b[0;34m\u001b[0m\u001b[0;34m\u001b[0m\u001b[0m\n\u001b[1;32m     20\u001b[0m     \u001b[0;32mif\u001b[0m \u001b[0;34m(\u001b[0m\u001b[0misPrimeNumber\u001b[0m\u001b[0;34m(\u001b[0m\u001b[0mi\u001b[0m\u001b[0;34m)\u001b[0m\u001b[0;34m)\u001b[0m\u001b[0;34m:\u001b[0m\u001b[0;34m\u001b[0m\u001b[0;34m\u001b[0m\u001b[0m\n\u001b[0;32m---> 21\u001b[0;31m         \u001b[0msb\u001b[0m \u001b[0;34m=\u001b[0m \u001b[0msb\u001b[0m \u001b[0;34m+\u001b[0m \u001b[0mstr\u001b[0m\u001b[0;34m(\u001b[0m\u001b[0mi\u001b[0m\u001b[0;34m)\u001b[0m \u001b[0;34m+\u001b[0m \u001b[0;34m\" \"\u001b[0m\u001b[0;34m;\u001b[0m\u001b[0;34m\u001b[0m\u001b[0;34m\u001b[0m\u001b[0m\n\u001b[0m\u001b[1;32m     22\u001b[0m         \u001b[0mdem\u001b[0m \u001b[0;34m=\u001b[0m \u001b[0mdem\u001b[0m \u001b[0;34m+\u001b[0m \u001b[0;36m1\u001b[0m\u001b[0;34m;\u001b[0m\u001b[0;34m\u001b[0m\u001b[0;34m\u001b[0m\u001b[0m\n\u001b[1;32m     23\u001b[0m     \u001b[0mi\u001b[0m \u001b[0;34m=\u001b[0m \u001b[0mi\u001b[0m \u001b[0;34m+\u001b[0m \u001b[0;36m1\u001b[0m\u001b[0;34m;\u001b[0m\u001b[0;34m\u001b[0m\u001b[0;34m\u001b[0m\u001b[0m\n",
            "\u001b[0;31mTypeError\u001b[0m: 'str' object is not callable"
          ]
        }
      ]
    }
  ]
}