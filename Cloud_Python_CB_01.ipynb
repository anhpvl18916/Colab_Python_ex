{
  "nbformat": 4,
  "nbformat_minor": 0,
  "metadata": {
    "colab": {
      "name": "Cloud-Python-CB-01.ipynb",
      "provenance": [],
      "collapsed_sections": [],
      "authorship_tag": "ABX9TyN+ZdNm62DT+IP3Vkqoc8hD",
      "include_colab_link": true
    },
    "kernelspec": {
      "name": "python3",
      "display_name": "Python 3"
    }
  },
  "cells": [
    {
      "cell_type": "markdown",
      "metadata": {
        "id": "view-in-github",
        "colab_type": "text"
      },
      "source": [
        "<a href=\"https://colab.research.google.com/github/anhpvl18916/Colab_Python_ex/blob/master/Cloud_Python_CB_01.ipynb\" target=\"_parent\"><img src=\"https://colab.research.google.com/assets/colab-badge.svg\" alt=\"Open In Colab\"/></a>"
      ]
    },
    {
      "cell_type": "code",
      "metadata": {
        "id": "kOaLM_eVdrZ4",
        "colab_type": "code",
        "colab": {
          "base_uri": "https://localhost:8080/",
          "height": 68
        },
        "outputId": "90b7ed6a-fdb7-43bd-da34-b8e3fcfee9d8"
      },
      "source": [
        "for i in range(5,0,-2):\n",
        "  print(i)"
      ],
      "execution_count": 1,
      "outputs": [
        {
          "output_type": "stream",
          "text": [
            "5\n",
            "3\n",
            "1\n"
          ],
          "name": "stdout"
        }
      ]
    },
    {
      "cell_type": "code",
      "metadata": {
        "id": "jpa_YyUBhyiQ",
        "colab_type": "code",
        "colab": {}
      },
      "source": [
        "for i in range(-5):\n",
        "    print('Hello, world!')"
      ],
      "execution_count": 0,
      "outputs": []
    },
    {
      "cell_type": "markdown",
      "metadata": {
        "id": "YL-QWeV4eTo6",
        "colab_type": "text"
      },
      "source": [
        "# New Section"
      ]
    },
    {
      "cell_type": "code",
      "metadata": {
        "id": "CuKpQFB3foLq",
        "colab_type": "code",
        "colab": {
          "base_uri": "https://localhost:8080/",
          "height": 85
        },
        "outputId": "6ed457be-4746-4fce-bb20-a7e22d15671b"
      },
      "source": [
        "n = int(input(\"Cho độ cao của Tam Giác: h = \"))\n",
        "\n",
        "for i in range(0,n):\n",
        "  str = \"\"\n",
        "  for j in range(0, i+1):\n",
        "    str +=\"*\"\n",
        "  print(str)"
      ],
      "execution_count": 2,
      "outputs": [
        {
          "output_type": "stream",
          "text": [
            "Cho độ cao của Tam Giác3\n",
            "*\n",
            "**\n",
            "***\n"
          ],
          "name": "stdout"
        }
      ]
    },
    {
      "cell_type": "code",
      "metadata": {
        "id": "rQpLKs2zgshq",
        "colab_type": "code",
        "colab": {
          "base_uri": "https://localhost:8080/",
          "height": 85
        },
        "outputId": "7cb1714c-333c-4abe-f72a-e434d451b998"
      },
      "source": [
        "n = int(input(\"Cho độ cao của Tam Giác: h = \"))\n",
        "for i in range(n,0,-1):\n",
        "  str = \"\"\n",
        "  for j in range(i, 0,-1):\n",
        "    str +=\"*\"\n",
        "  print(str)"
      ],
      "execution_count": 60,
      "outputs": [
        {
          "output_type": "stream",
          "text": [
            "Cho độ cao của Tam Giác: h = 3\n",
            "***\n",
            "**\n",
            "*\n"
          ],
          "name": "stdout"
        }
      ]
    },
    {
      "cell_type": "code",
      "metadata": {
        "id": "-p6wp_Vvh-i0",
        "colab_type": "code",
        "colab": {
          "base_uri": "https://localhost:8080/",
          "height": 102
        },
        "outputId": "8d53abfb-16fd-49b5-b2f3-b3d8966fd355"
      },
      "source": [
        "n = int(input(\"Cho độ cao của Tam Giác: h = \"))\n",
        "\n",
        "for i in range(0,n+1):\n",
        "    s = n - i\n",
        "    k = s * \" \"\n",
        "    print(k, end='')\n",
        "    print(((2 * i) - 1) * '*')"
      ],
      "execution_count": 15,
      "outputs": [
        {
          "output_type": "stream",
          "text": [
            "Cho độ cao của Tam Giác: h = 3\n",
            "   \n",
            "  *\n",
            " ***\n",
            "*****\n"
          ],
          "name": "stdout"
        }
      ]
    },
    {
      "cell_type": "code",
      "metadata": {
        "id": "t1wcbmUilK7f",
        "colab_type": "code",
        "colab": {
          "base_uri": "https://localhost:8080/",
          "height": 85
        },
        "outputId": "a2d6c70b-71bf-493f-e8bc-b8d33b888db6"
      },
      "source": [
        "n = int(input(\"Cho độ cao của Tam Giác: h = \"))\n",
        "\n",
        "for i in range(n,0,-1):\n",
        "    s = n - i\n",
        "    k = s* \" \" \n",
        "    print(k, end='')\n",
        "    print(((2 * i) - 1) * '*')\n"
      ],
      "execution_count": 42,
      "outputs": [
        {
          "output_type": "stream",
          "text": [
            "Cho độ cao của Tam Giác: h = 3\n",
            "*****\n",
            " ***\n",
            "  *\n"
          ],
          "name": "stdout"
        }
      ]
    },
    {
      "cell_type": "code",
      "metadata": {
        "id": "poExNfITlKpA",
        "colab_type": "code",
        "colab": {
          "base_uri": "https://localhost:8080/",
          "height": 85
        },
        "outputId": "2b463e23-1f44-457b-c21e-ff808e16441b"
      },
      "source": [
        "n = int(input(\"Cho độ cao của Tam Giác: h = \"))\n",
        "for i in range(n,0,-1):\n",
        "  str = \"\"\n",
        "  for k in range(i,n):\n",
        "    str += \" \"\n",
        "  for j in range(i, 0,-1):\n",
        "    str +=\"*\"\n",
        "  print(str)"
      ],
      "execution_count": 61,
      "outputs": [
        {
          "output_type": "stream",
          "text": [
            "Cho độ cao của Tam Giác: h = 3\n",
            "***\n",
            " **\n",
            "  *\n"
          ],
          "name": "stdout"
        }
      ]
    },
    {
      "cell_type": "code",
      "metadata": {
        "id": "-3_UgX82wsdE",
        "colab_type": "code",
        "colab": {
          "base_uri": "https://localhost:8080/",
          "height": 68
        },
        "outputId": "beef963b-d607-401a-c260-8635b4101402"
      },
      "source": [
        "for i in range(0,n):\n",
        "  str = \"\"\n",
        "  for k in range(i,n):\n",
        "    str += \" \"\n",
        "  for j in range(0, i+1):\n",
        "    str +=\"*\"\n",
        "  print(str)"
      ],
      "execution_count": 63,
      "outputs": [
        {
          "output_type": "stream",
          "text": [
            "   *\n",
            "  **\n",
            " ***\n"
          ],
          "name": "stdout"
        }
      ]
    },
    {
      "cell_type": "code",
      "metadata": {
        "id": "KGMbgwXiyarf",
        "colab_type": "code",
        "colab": {
          "base_uri": "https://localhost:8080/",
          "height": 68
        },
        "outputId": "8dcd8c70-66c5-45d8-cbe4-baf4211ff41b"
      },
      "source": [
        "for i in range(0,n):\n",
        "  str = \"\"\n",
        "  for k in range(i,n):\n",
        "    str += \" \" \n",
        "  for j in range(0, (2*i +1)):\n",
        "    if(i>=2)\n",
        "      str +=\" \"\n",
        "      print((j+1),str)"
      ],
      "execution_count": 65,
      "outputs": [
        {
          "output_type": "stream",
          "text": [
            "   *\n",
            "  ***\n",
            " *****\n"
          ],
          "name": "stdout"
        }
      ]
    },
    {
      "cell_type": "code",
      "metadata": {
        "id": "CTlO58Bhz8Rg",
        "colab_type": "code",
        "colab": {
          "base_uri": "https://localhost:8080/",
          "height": 51
        },
        "outputId": "0f73501d-230b-4150-e3f6-7d6786e3f787"
      },
      "source": [
        "list= [1,3,5,7,2,4,6,9]\n",
        "#list, array, tuple,set,dictionary\n",
        "#print(list[3])\n",
        "\n",
        "tuple =(\"001\", \"Nguyen A\", \"20\",\"X's comp\")#\n",
        "\n",
        "dsTaphop = {1,2,3,5,6,8,2} # các phần tử là duy nhất, các pt trùng sẽ bị loại bỏ\n",
        "\n",
        "dict  = {\"one\": \"một\",\n",
        "         \"two\": \"hai\"\n",
        "         }\n",
        "for i in dict:\n",
        "  print(i)"
      ],
      "execution_count": 70,
      "outputs": [
        {
          "output_type": "stream",
          "text": [
            "one\n",
            "two\n"
          ],
          "name": "stdout"
        }
      ]
    }
  ]
}